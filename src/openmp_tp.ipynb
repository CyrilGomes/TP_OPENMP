{
 "cells": [
  {
   "cell_type": "markdown",
   "metadata": {},
   "source": [
    "# TP OpenMP - October 2022\n",
    "## Part 1 : Pi\n",
    "### Compilation"
   ]
  },
  {
   "cell_type": "code",
   "execution_count": 43,
   "metadata": {},
   "outputs": [],
   "source": [
    "!g++ -o tp_openmp_part_1_pi_impl_critical part1/tp_openmp_part_1_pi_impl_critical.cpp -fopenmp -O3 -march=native\n",
    "!g++ -o tp_openmp_part_1_pi_impl_reduce part1/tp_openmp_part_1_pi_impl_reduce.cpp -fopenmp -O3 -march=native\n",
    "!g++ -o tp_openmp_part_1_pi_impl_atomic part1/tp_openmp_part_1_pi_impl_atomic.cpp -fopenmp -O3 -march=native"
   ]
  },
  {
   "cell_type": "markdown",
   "metadata": {},
   "source": [
    "### Performance evaluation"
   ]
  },
  {
   "cell_type": "code",
   "execution_count": 44,
   "metadata": {},
   "outputs": [],
   "source": [
    "import os\n",
    "import subprocess\n",
    "import pandas as pd\n",
    "\n",
    "try:\n",
    "    os.remove(\"stats.csv\")\n",
    "except OSError:\n",
    "    pass\n",
    "\n",
    "import pandas as pd\n",
    "\n",
    "df = pd.DataFrame(columns=['version','nbcore','num_steps','runtime'])\n",
    "df.to_csv(\"stats.csv\", index=False)\n",
    "\n",
    "num_steps = [10, 100, 1000]#, 1000000000000]\n",
    "nb_threads = [1, 2, 4, 8]\n",
    "repeats = range(0,10)\n",
    "\n",
    "for nsteps in num_steps:\n",
    "    for nthread in nb_threads:\n",
    "        for repeat in repeats:\n",
    "            args = (\"./tp_openmp_part_1_pi_impl_critical\", \"-T\", str(nthread), \"-N\", str(nsteps))\n",
    "            popen = subprocess.Popen(args, stdout=subprocess.PIPE)\n",
    "            popen.wait()\n",
    "\n",
    "            \n",
    "            args = (\"./tp_openmp_part_1_pi_impl_reduce\", \"-T\", str(nthread), \"-N\", str(nsteps))\n",
    "            popen = subprocess.Popen(args, stdout=subprocess.PIPE)\n",
    "            popen.wait()\n",
    "\n",
    "            args = (\"./tp_openmp_part_1_pi_impl_atomic\", \"-T\", str(nthread), \"-N\", str(nsteps))\n",
    "            popen = subprocess.Popen(args, stdout=subprocess.PIPE)\n",
    "            popen.wait()\n",
    "            \n",
    "\n"
   ]
  },
  {
   "cell_type": "markdown",
   "metadata": {},
   "source": [
    "### Performance analysis\n",
    "#### Weak scaling"
   ]
  },
  {
   "cell_type": "code",
   "execution_count": 45,
   "metadata": {},
   "outputs": [
    {
     "name": "stdout",
     "output_type": "stream",
     "text": [
      "      version  nbcore  num_steps   runtime\n",
      "0    critical       1         10  0.000004\n",
      "1      reduce       1         10  0.000004\n",
      "2      atomic       1         10  0.000004\n",
      "3    critical       1         10  0.000004\n",
      "4      reduce       1         10  0.000004\n",
      "5      atomic       1         10  0.000004\n",
      "6    critical       1         10  0.000006\n",
      "7      reduce       1         10  0.000004\n",
      "8      atomic       1         10  0.000004\n",
      "9    critical       1         10  0.000004\n",
      "10     reduce       1         10  0.000003\n",
      "11     atomic       1         10  0.000005\n",
      "12   critical       1         10  0.000004\n",
      "13     reduce       1         10  0.000003\n",
      "14     atomic       1         10  0.000004\n",
      "15   critical       1         10  0.000004\n",
      "16     reduce       1         10  0.000004\n",
      "17     atomic       1         10  0.000005\n",
      "18   critical       1         10  0.000005\n",
      "19     reduce       1         10  0.000005\n",
      "20     atomic       1         10  0.000006\n",
      "21   critical       1         10  0.000006\n",
      "22     reduce       1         10  0.000007\n",
      "23     atomic       1         10  0.000006\n",
      "24   critical       1         10  0.000006\n",
      "25     reduce       1         10  0.000006\n",
      "26     atomic       1         10  0.000005\n",
      "27   critical       1         10  0.000006\n",
      "28     reduce       1         10  0.000006\n",
      "29     atomic       1         10  0.000006\n",
      "..        ...     ...        ...       ...\n",
      "330  critical       8       1000  0.000265\n",
      "331    reduce       8       1000  0.000130\n",
      "332    atomic       8       1000  0.000259\n",
      "333  critical       8       1000  0.000233\n",
      "334    reduce       8       1000  0.000191\n",
      "335    atomic       8       1000  0.000167\n",
      "336  critical       8       1000  0.000189\n",
      "337    reduce       8       1000  0.000108\n",
      "338    atomic       8       1000  0.000197\n",
      "339  critical       8       1000  0.000594\n",
      "340    reduce       8       1000  0.032897\n",
      "341    atomic       8       1000  0.000253\n",
      "342  critical       8       1000  0.002650\n",
      "343    reduce       8       1000  0.001408\n",
      "344    atomic       8       1000  0.000167\n",
      "345  critical       8       1000  0.000191\n",
      "346    reduce       8       1000  0.000108\n",
      "347    atomic       8       1000  0.000169\n",
      "348  critical       8       1000  0.000206\n",
      "349    reduce       8       1000  0.000100\n",
      "350    atomic       8       1000  0.000152\n",
      "351  critical       8       1000  0.000199\n",
      "352    reduce       8       1000  0.000101\n",
      "353    atomic       8       1000  0.000160\n",
      "354  critical       8       1000  0.000201\n",
      "355    reduce       8       1000  0.000099\n",
      "356    atomic       8       1000  0.000157\n",
      "357  critical       8       1000  0.000198\n",
      "358    reduce       8       1000  0.000099\n",
      "359    atomic       8       1000  0.000166\n",
      "\n",
      "[360 rows x 4 columns]\n"
     ]
    },
    {
     "ename": "KeyError",
     "evalue": "10",
     "output_type": "error",
     "traceback": [
      "\u001b[0;31m---------------------------------------------------------------------------\u001b[0m",
      "\u001b[0;31mKeyError\u001b[0m                                  Traceback (most recent call last)",
      "\u001b[0;32m<ipython-input-45-e73feef7a702>\u001b[0m in \u001b[0;36m<module>\u001b[0;34m()\u001b[0m\n\u001b[1;32m     24\u001b[0m     \u001b[0mmean_stats\u001b[0m \u001b[0;34m=\u001b[0m \u001b[0mdf_plot\u001b[0m\u001b[0;34m.\u001b[0m\u001b[0mgroupby\u001b[0m\u001b[0;34m(\u001b[0m\u001b[0;34m[\u001b[0m\u001b[0;34m'num_steps'\u001b[0m\u001b[0;34m,\u001b[0m\u001b[0;34m'version'\u001b[0m\u001b[0;34m,\u001b[0m\u001b[0;34m'nbcore'\u001b[0m\u001b[0;34m]\u001b[0m\u001b[0;34m)\u001b[0m\u001b[0;34m.\u001b[0m\u001b[0mmean\u001b[0m\u001b[0;34m(\u001b[0m\u001b[0;34m)\u001b[0m\u001b[0;34m.\u001b[0m\u001b[0mreset_index\u001b[0m\u001b[0;34m(\u001b[0m\u001b[0;34m)\u001b[0m\u001b[0;34m\u001b[0m\u001b[0;34m\u001b[0m\u001b[0m\n\u001b[1;32m     25\u001b[0m \u001b[0;34m\u001b[0m\u001b[0m\n\u001b[0;32m---> 26\u001b[0;31m     \u001b[0mplt\u001b[0m\u001b[0;34m.\u001b[0m\u001b[0mplot\u001b[0m\u001b[0;34m(\u001b[0m\u001b[0mmean_stats\u001b[0m\u001b[0;34m[\u001b[0m\u001b[0;34m'nbcore'\u001b[0m\u001b[0;34m]\u001b[0m\u001b[0;34m,\u001b[0m \u001b[0mmean_stats\u001b[0m\u001b[0;34m[\u001b[0m\u001b[0;34m'runtime'\u001b[0m\u001b[0;34m]\u001b[0m\u001b[0;34m,\u001b[0m\u001b[0mlinestyle\u001b[0m\u001b[0;34m=\u001b[0m\u001b[0;34m\"solid\"\u001b[0m\u001b[0;34m,\u001b[0m\u001b[0mcolor\u001b[0m\u001b[0;34m=\u001b[0m\u001b[0mcolor_num_steps\u001b[0m\u001b[0;34m[\u001b[0m\u001b[0mnum_steps\u001b[0m\u001b[0;34m]\u001b[0m\u001b[0;34m)\u001b[0m\u001b[0;34m\u001b[0m\u001b[0;34m\u001b[0m\u001b[0m\n\u001b[0m\u001b[1;32m     27\u001b[0m     \u001b[0mplt\u001b[0m\u001b[0;34m.\u001b[0m\u001b[0myscale\u001b[0m\u001b[0;34m(\u001b[0m\u001b[0;34m'log'\u001b[0m\u001b[0;34m)\u001b[0m\u001b[0;34m\u001b[0m\u001b[0;34m\u001b[0m\u001b[0m\n\u001b[1;32m     28\u001b[0m     \u001b[0mplt\u001b[0m\u001b[0;34m.\u001b[0m\u001b[0mxscale\u001b[0m\u001b[0;34m(\u001b[0m\u001b[0;34m'log'\u001b[0m\u001b[0;34m)\u001b[0m\u001b[0;34m\u001b[0m\u001b[0;34m\u001b[0m\u001b[0m\n",
      "\u001b[0;31mKeyError\u001b[0m: 10"
     ]
    }
   ],
   "source": [
    "import matplotlib.pyplot as plt\n",
    "import numpy as np\n",
    "from numpy import genfromtxt\n",
    "\n",
    "import pandas as pd\n",
    "\n",
    "import warnings\n",
    "warnings.filterwarnings('ignore')\n",
    "\n",
    "df = pd.read_csv('stats.csv',header=0,names=['version','nbcore','num_steps','runtime'],dtype={\n",
    "                     'version': str,\n",
    "                     'nbcore': int,\n",
    "                     'num_steps' : int,\n",
    "                     'runtime' : float\n",
    "                 })\n",
    "print(df)\n",
    "\n",
    "color_num_steps = {10 : \"blue\", 100 : \"red\", 1000 : \"green\", 1000000000000 : \"black\"}\n",
    "\n",
    "for num_steps in df['num_steps']:\n",
    "    df_plot = df[(df['num_steps'] == int(num_steps))]\n",
    "    df_plot = df_plot[df_plot['version'] == \"atomic\"]\n",
    "    \n",
    "    mean_stats = df_plot.groupby(['num_steps','version','nbcore']).mean().reset_index()\n",
    "    \n",
    "    plt.plot(mean_stats['nbcore'], mean_stats['runtime'],linestyle=\"solid\",color=color_num_steps[num_steps])\n",
    "    plt.yscale('log')\n",
    "    plt.xscale('log')\n",
    "    plt.scatter(df_plot['nbcore'], df_plot['runtime'],color=color_num_steps[num_steps])\n",
    "\n",
    "    df_plot = df[(df['num_steps'] == num_steps) & (df['version'] == \"reduce\")]\n",
    "    mean_stats = df_plot.groupby(['num_steps','version','nbcore']).mean().reset_index()\n",
    "    \n",
    "    plt.plot(mean_stats['nbcore'], mean_stats['runtime'],linestyle=\"dashed\",color=color_num_steps[num_steps])\n",
    "    plt.yscale('log')\n",
    "    plt.xscale('log')\n",
    "    plt.scatter(df_plot['nbcore'], df_plot['runtime'],color=color_num_steps[num_steps])\n",
    "    \n",
    "plt.legend()\n",
    "plt.show()"
   ]
  },
  {
   "cell_type": "markdown",
   "metadata": {},
   "source": [
    "#### Strong Scaling"
   ]
  },
  {
   "cell_type": "code",
   "execution_count": null,
   "metadata": {},
   "outputs": [],
   "source": []
  },
  {
   "cell_type": "markdown",
   "metadata": {},
   "source": [
    "### Discussion"
   ]
  }
 ],
 "metadata": {
  "kernelspec": {
   "display_name": "Python 3.8.10 64-bit",
   "language": "python",
   "name": "python3"
  },
  "language_info": {
   "codemirror_mode": {
    "name": "ipython",
    "version": 3
   },
   "file_extension": ".py",
   "mimetype": "text/x-python",
   "name": "python",
   "nbconvert_exporter": "python",
   "pygments_lexer": "ipython3",
   "version": "3.7.3"
  },
  "orig_nbformat": 4,
  "vscode": {
   "interpreter": {
    "hash": "31f2aee4e71d21fbe5cf8b01ff0e069b9275f58929596ceb00d14d90e3e16cd6"
   }
  }
 },
 "nbformat": 4,
 "nbformat_minor": 2
}
